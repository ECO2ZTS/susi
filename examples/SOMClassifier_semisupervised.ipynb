{
 "cells": [
  {
   "cell_type": "markdown",
   "metadata": {},
   "source": [
    "# Example for semi-supervised SOMClassifier"
   ]
  },
  {
   "cell_type": "code",
   "execution_count": 4,
   "metadata": {},
   "outputs": [],
   "source": [
    "import numpy as np\n",
    "import matplotlib.pyplot as plt\n",
    "from sklearn.model_selection import train_test_split\n",
    "from sklearn.preprocessing import StandardScaler\n",
    "from sklearn.datasets import load_digits\n",
    "from sklearn import metrics\n",
    "\n",
    "# --- for running the script without pip\n",
    "import sys\n",
    "sys.path.append(\"../\")\n",
    "# ---\n",
    "\n",
    "import susi"
   ]
  },
  {
   "cell_type": "markdown",
   "metadata": {},
   "source": [
    "## Get data\n",
    "\n",
    "We modify the `load_digits` dataset of scikit-learn for this semi-supervised application.\n",
    "Therefore, we ramdomly set labels of datapoints (only!) in the training dataset to the placeholder -1.\n",
    "This variable also has to be set in the hyperparameter  `missing_label_placeholder=1` of the `SOMClassifier`."
   ]
  },
  {
   "cell_type": "code",
   "execution_count": 5,
   "metadata": {},
   "outputs": [
    {
     "name": "stdout",
     "output_type": "stream",
     "text": [
      "Datapoints for training with label (supervised):\t 450\n",
      "Datapoints for training with label (semi-supervised):\t 39\n",
      "Datapoints for testing:\t\t\t\t\t 451\n"
     ]
    }
   ],
   "source": [
    "### define ratios (between 0 and 1)\n",
    "test_size = 0.5\n",
    "unlabeled_size = 0.9\n",
    "\n",
    "# define test dataset\n",
    "data = load_digits(n_class=5)\n",
    "X_train, X_test, y_train, y_test = train_test_split(\n",
    "    data.data, data.target, test_size=test_size, random_state=1)\n",
    "\n",
    "# preprocessing\n",
    "scaler = StandardScaler()\n",
    "X_train = scaler.fit_transform(X_train)\n",
    "X_test = scaler.transform(X_test)\n",
    "\n",
    "# data with missing labels -> semi-supervised\n",
    "rng = np.random.RandomState(2)\n",
    "random_unlabeled_points = rng.rand(len(y_train)) < unlabeled_size\n",
    "y_train[random_unlabeled_points] = -1\n",
    "\n",
    "print(\"Datapoints for training with label (supervised):\\t\", y_train.shape[0])\n",
    "print(\"Datapoints for training with label (semi-supervised):\\t\", np.sum(y_train != -1))\n",
    "print(\"Datapoints for testing:\\t\\t\\t\\t\\t\", y_test.shape[0])"
   ]
  },
  {
   "cell_type": "markdown",
   "metadata": {},
   "source": [
    "## Semi-supervised Classification"
   ]
  },
  {
   "cell_type": "code",
   "execution_count": 6,
   "metadata": {},
   "outputs": [
    {
     "name": "stdout",
     "output_type": "stream",
     "text": [
      "Accuracy = 86.5 %\n"
     ]
    }
   ],
   "source": [
    "# NBVAL_IGNORE_OUTPUT\n",
    "\n",
    "\n",
    "som_semi = susi.SOMClassifier(\n",
    "    n_rows=15,\n",
    "    n_columns=15,\n",
    "    n_iter_unsupervised=5000,\n",
    "    n_iter_supervised=5000,\n",
    "    missing_label_placeholder=-1,\n",
    "    random_state=42)\n",
    "som_semi.fit(X_train, y_train)\n",
    "y_pred = som_semi.predict(X_test)\n",
    "accuracy = metrics.accuracy_score(y_test, y_pred)\n",
    "\n",
    "print(\"Accuracy = {0:.1f} %\".format(accuracy*100))"
   ]
  },
  {
   "cell_type": "code",
   "execution_count": null,
   "metadata": {},
   "outputs": [],
   "source": []
  }
 ],
 "metadata": {
  "kernelspec": {
   "display_name": "Python 3",
   "language": "python",
   "name": "python3"
  },
  "language_info": {
   "codemirror_mode": {
    "name": "ipython",
    "version": 3
   },
   "file_extension": ".py",
   "mimetype": "text/x-python",
   "name": "python",
   "nbconvert_exporter": "python",
   "pygments_lexer": "ipython3",
   "version": "3.7.5"
  },
  "toc": {
   "nav_menu": {},
   "number_sections": false,
   "sideBar": true,
   "skip_h1_title": false,
   "toc_cell": false,
   "toc_position": {},
   "toc_section_display": "block",
   "toc_window_display": false
  },
  "varInspector": {
   "cols": {
    "lenName": 16,
    "lenType": 16,
    "lenVar": 40
   },
   "kernels_config": {
    "python": {
     "delete_cmd_postfix": "",
     "delete_cmd_prefix": "del ",
     "library": "var_list.py",
     "varRefreshCmd": "print(var_dic_list())"
    },
    "r": {
     "delete_cmd_postfix": ") ",
     "delete_cmd_prefix": "rm(",
     "library": "var_list.r",
     "varRefreshCmd": "cat(var_dic_list()) "
    }
   },
   "types_to_exclude": [
    "module",
    "function",
    "builtin_function_or_method",
    "instance",
    "_Feature"
   ],
   "window_display": false
  }
 },
 "nbformat": 4,
 "nbformat_minor": 2
}
