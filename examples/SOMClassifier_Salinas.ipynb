{
 "cells": [
  {
   "cell_type": "markdown",
   "metadata": {},
   "source": [
    "# SOMClassifier: Salinas Dataset"
   ]
  },
  {
   "cell_type": "code",
   "execution_count": 4,
   "metadata": {},
   "outputs": [],
   "source": [
    "import numpy as np\n",
    "import matplotlib.pyplot as plt\n",
    "import matplotlib\n",
    "from sklearn.model_selection import train_test_split\n",
    "from sklearn.metrics import accuracy_score, f1_score, cohen_kappa_score, make_scorer, recall_score\n",
    "from sklearn.model_selection import cross_validate\n",
    "from sklearn.ensemble import RandomForestClassifier\n",
    "import scipy.io as sio\n",
    "import pickle\n",
    "# import sys\n",
    "# sys.path.append(\"../\")\n",
    "import susi"
   ]
  },
  {
   "cell_type": "markdown",
   "metadata": {},
   "source": [
    "## Get data\n",
    "Source for datasets: http://www.ehu.eus/ccwintco/index.php?title=Hyperspectral_Remote_Sensing_Scenes"
   ]
  },
  {
   "cell_type": "code",
   "execution_count": 5,
   "metadata": {},
   "outputs": [
    {
     "name": "stdout",
     "output_type": "stream",
     "text": [
      "(512, 217, 204) (512, 217)\n"
     ]
    }
   ],
   "source": [
    "X_salinas = sio.loadmat(\"salinas/Salinas_corrected.mat\")[\"salinas_corrected\"]\n",
    "y_salinas = sio.loadmat(\"salinas/Salinas_gt.mat\")[\"salinas_gt\"]\n",
    "print(X_salinas.shape, y_salinas.shape)"
   ]
  },
  {
   "cell_type": "code",
   "execution_count": 6,
   "metadata": {},
   "outputs": [],
   "source": [
    "classes_salinas = {\n",
    "    1: \"Brocoli green weeds 1\",\n",
    "    2: \"Brocoli green weeds 2\",\n",
    "    3: \"Fallow\",\n",
    "    4: \"Fallow rough plow\",\n",
    "    5: \"Fallow smooth\",\n",
    "    6: \"Stubble\",\n",
    "    7: \"Celery\",\n",
    "    8: \"Grapes untrained\",\n",
    "    9: \"Soil vinyard develop\",\n",
    "    10: \"Corn senesced green weeds\",\n",
    "    11: \"Lettuce romaine 4wk\",\n",
    "    12: \"Lettuce romaine 5wk\",\n",
    "    13: \"Lettuce romaine 6wk\",\n",
    "    14: \"Lettuce romaine 7wk\",\n",
    "    15: \"Vinyard untrained\",\n",
    "    16: \"Vinyard vertical trellis\",\n",
    "}\n",
    "\n",
    "classes_salinas_orig = {\n",
    "    1: \"Brocoli_green_weeds_1\",\n",
    "    2: \"Brocoli_green_weeds_2\",\n",
    "    3: \"Fallow\",\n",
    "    4: \"Fallow_rough_plow\",\n",
    "    5: \"Fallow_smooth\",\n",
    "    6: \"Stubble\",\n",
    "    7: \"Celery\",\n",
    "    8: \"Grapes_untrained\",\n",
    "    9: \"Soil_vinyard_develop\",\n",
    "    10: \"Corn_senesced_green_weeds\",\n",
    "    11: \"Lettuce_romaine_4wk\",\n",
    "    12: \"Lettuce_romaine_5wk\",\n",
    "    13: \"Lettuce_romaine_6wk\",\n",
    "    14: \"Lettuce_romaine_7wk\",\n",
    "    15: \"Vinyard_untrained\",\n",
    "    16: \"Vinyard_vertical_trellis\",\n",
    "}"
   ]
  },
  {
   "cell_type": "code",
   "execution_count": 7,
   "metadata": {},
   "outputs": [
    {
     "name": "stdout",
     "output_type": "stream",
     "text": [
      "(54129, 204) (54129,)\n"
     ]
    }
   ],
   "source": [
    "mask_salinas = y_salinas > 0\n",
    "X_salinas_m = X_salinas[mask_salinas]\n",
    "y_salinas_m = y_salinas[mask_salinas]\n",
    "print(X_salinas_m.shape, y_salinas_m.shape)"
   ]
  },
  {
   "cell_type": "code",
   "execution_count": 8,
   "metadata": {},
   "outputs": [
    {
     "data": {
      "text/plain": [
       "<matplotlib.image.AxesImage at 0x106489e80>"
      ]
     },
     "execution_count": 8,
     "metadata": {},
     "output_type": "execute_result"
    },
    {
     "data": {
      "image/png": "[encoded data removed]",
      "text/plain": [
       "<Figure size 432x288 with 1 Axes>"
      ]
     },
     "metadata": {
      "needs_background": "light"
     },
     "output_type": "display_data"
    }
   ],
   "source": [
    "plt.imshow(y_salinas)"
   ]
  },
  {
   "cell_type": "markdown",
   "metadata": {},
   "source": [
    "## Classify Salinas"
   ]
  },
  {
   "cell_type": "raw",
   "metadata": {},
   "source": [
    "scorer = {\n",
    "    \"oa\": \"accuracy\",\n",
    "    # \"f1_micro\": \"f1_micro\",\n",
    "    # \"f1_macro\": \"f1_macro\",\n",
    "    \"aa\": \"recall_macro\",\n",
    "    \"kappa\": make_scorer(cohen_kappa_score),\n",
    "}\n",
    "\n",
    "som = susi.SOMClassifier(\n",
    "    n_rows=40,\n",
    "    n_columns=20,\n",
    "    n_iter_unsupervised=5000,\n",
    "    n_iter_supervised=20000,\n",
    "    neighborhood_mode_unsupervised=\"linear\",\n",
    "    neighborhood_mode_supervised=\"linear\",\n",
    "    learn_mode_unsupervised=\"min\",\n",
    "    learn_mode_supervised=\"min\",\n",
    "    learning_rate_start=0.5,\n",
    "    learning_rate_end=0.05,\n",
    "    do_class_weighting=False,\n",
    "    random_state=None)\n",
    "\n",
    "cv_som = cross_validate(\n",
    "    som, X_salinas_m, y_salinas_m, cv=5, n_jobs=-1,\n",
    "    scoring=scorer,\n",
    "    return_train_score=True, return_estimator=True, verbose=1)"
   ]
  },
  {
   "cell_type": "code",
   "execution_count": 9,
   "metadata": {},
   "outputs": [
    {
     "name": "stdout",
     "output_type": "stream",
     "text": [
      "OA\t72.51\t71.63\n",
      "AA\t73.70\t72.76\n",
      "Kappa\t69.35\t68.38\n"
     ]
    }
   ],
   "source": [
    "# pickle.dump(cv_som, open(\"pickles/SOMClassifier_cv.p\", \"wb\"))\n",
    "cv_som = pickle.load(open(\"pickles/SOMClassifier_cv.p\", \"rb\"))\n",
    "\n",
    "print(\"OA\\t{0:.2f}\\t{1:.2f}\".format(np.mean(cv_som['train_oa'])*100, np.mean(cv_som['test_oa'])*100))\n",
    "print(\"AA\\t{0:.2f}\\t{1:.2f}\".format(np.mean(cv_som['train_aa'])*100, np.mean(cv_som['test_aa'])*100))\n",
    "print(\"Kappa\\t{0:.2f}\\t{1:.2f}\".format(np.mean(cv_som['train_kappa'])*100, np.mean(cv_som['test_kappa'])*100))"
   ]
  },
  {
   "cell_type": "code",
   "execution_count": 10,
   "metadata": {},
   "outputs": [],
   "source": [
    "som = cv_som[\"estimator\"][np.argmax(cv_som['test_oa'])]\n",
    "y_pred = som.predict(X_salinas_m)\n",
    "pickle.dump(y_pred, open(\"pickles/SOMClassifier_pred.p\", \"wb\"))"
   ]
  },
  {
   "cell_type": "raw",
   "metadata": {},
   "source": [
    "print(\"All:\", accuracy_score(y_salinas_m, y_pred), f1_score(y_salinas_m, y_pred, average=\"macro\"),\n",
    "     cohen_kappa_score(y_salinas_m, y_pred)) "
   ]
  },
  {
   "cell_type": "code",
   "execution_count": 11,
   "metadata": {},
   "outputs": [],
   "source": [
    "def plot_som_histogram(bmu_list, n_rows, n_columns, fontsize=15):\n",
    "    \"\"\"Plot 2D Histogram of SOM.\n",
    "\n",
    "    Plot 2D Histogram with one bin for each SOM node. The content of one\n",
    "    bin is the number of datapoints matched to the specific node.\n",
    "\n",
    "    \"\"\"\n",
    "    fig, ax = plt.subplots(1, 1, figsize=(3, 6))\n",
    "\n",
    "    # colormap\n",
    "    cmap = plt.cm.viridis\n",
    "    cmaplist = [cmap(i) for i in range(cmap.N)]\n",
    "    cmap = matplotlib.colors.LinearSegmentedColormap.from_list('mcm',cmaplist, cmap.N)\n",
    "\n",
    "    #bounds = np.linspace(0, 5, 6)\n",
    "    bounds = np.arange(0.,600.,100.)\n",
    "    norm = matplotlib.colors.BoundaryNorm(bounds, cmap.N)\n",
    "    ax2 = fig.add_axes([0.96, 0.12, 0.04, 0.76])\n",
    "    cbar = matplotlib.colorbar.ColorbarBase(ax2, cmap=cmap, norm=norm,\n",
    "        spacing='proportional', ticks=bounds, boundaries=bounds, format='%1i', extend=\"max\")\n",
    "    cbar.ax.set_ylabel('Number of datapoints', fontsize=fontsize)\n",
    "    cbar.ax.tick_params(labelsize=fontsize)\n",
    "\n",
    "    counts, xedges, yedges, Image = ax.hist2d(\n",
    "        [x[1] for x in bmu_list], [x[0] for x in bmu_list],\n",
    "        bins=[n_columns, n_rows], cmin=1, cmap=cmap, norm=norm)\n",
    "    \n",
    "    for label in cbar.ax.xaxis.get_ticklabels()[::2]:\n",
    "        label.set_visible(False)\n",
    "    ax.set_xlabel(\"SOM columns\", fontsize=fontsize)\n",
    "    ax.set_ylabel(\"SOM rows\", fontsize=fontsize)\n",
    "    for tick in ax.xaxis.get_major_ticks():\n",
    "        tick.label.set_fontsize(fontsize)\n",
    "    for tick in ax.yaxis.get_major_ticks():\n",
    "        tick.label.set_fontsize(fontsize)\n",
    "\n",
    "    # to be compatible with plt.imshow:\n",
    "    ax.invert_yaxis()\n",
    "\n",
    "    plt.grid(b=False)\n",
    "    plt.savefig(\"plots/class_som_histogram.pdf\", bbox_inches='tight')"
   ]
  },
  {
   "cell_type": "code",
   "execution_count": 13,
   "metadata": {},
   "outputs": [],
   "source": [
    "bmu_list = som.get_bmus(X_salinas_m, som.unsuper_som_)"
   ]
  },
  {
   "cell_type": "code",
   "execution_count": 14,
   "metadata": {},
   "outputs": [
    {
     "data": {
      "image/png": "[encoded data removed]",
      "text/plain": [
       "<Figure size 216x432 with 2 Axes>"
      ]
     },
     "metadata": {
      "needs_background": "light"
     },
     "output_type": "display_data"
    }
   ],
   "source": [
    "plot_som_histogram(bmu_list, 40, 20)"
   ]
  },
  {
   "cell_type": "code",
   "execution_count": 15,
   "metadata": {},
   "outputs": [
    {
     "data": {
      "image/png": "[encoded data removed]",
      "text/plain": [
       "<Figure size 432x360 with 1 Axes>"
      ]
     },
     "metadata": {
      "needs_background": "light"
     },
     "output_type": "display_data"
    }
   ],
   "source": [
    "def plot_estimation_map(estimation_map, fontsize=13):\n",
    "    plt.figure(figsize=(6,5))\n",
    "    cmap = matplotlib.cm.tab20c\n",
    "    cmaplist = [cmap(i) for i in range(cmap.N)]    # extract all colors\n",
    "    cmap = matplotlib.colors.LinearSegmentedColormap.from_list('Custom cmap', cmaplist, cmap.N)\n",
    "    cmap.set_bad('white')\n",
    "    plt.imshow(estimation_map, cmap=cmap)\n",
    "    plt.xlabel(\"SOM columns\", fontsize=fontsize)\n",
    "    plt.ylabel(\"SOM rows\", fontsize=fontsize)\n",
    "    plt.xticks(fontsize=fontsize)\n",
    "    plt.yticks(fontsize=fontsize)\n",
    "    \n",
    "    # legend\n",
    "    for key in classes_salinas.keys():\n",
    "        mycolor = cmap(key)\n",
    "        plt.plot(0, 0, \"s\", c=mycolor, label=classes_salinas[key])\n",
    "    legend = plt.legend(bbox_to_anchor=(2.5, 1.0), fontsize=fontsize*0.8, frameon=False, ncol=1, title=\"Classes:\")\n",
    "    plt.setp(legend.get_title(),fontsize=fontsize*0.8)\n",
    "    \n",
    "    plt.grid(b=False)\n",
    "    plt.savefig(\"plots/class_output_distribution.pdf\", bbox_inches='tight')\n",
    "\n",
    "estimation_map = np.squeeze(som.get_estimation_map())\n",
    "plot_estimation_map(estimation_map)"
   ]
  },
  {
   "cell_type": "code",
   "execution_count": 17,
   "metadata": {},
   "outputs": [
    {
     "data": {
      "text/plain": [
       "<matplotlib.colorbar.Colorbar at 0x1331befd0>"
      ]
     },
     "execution_count": 17,
     "metadata": {},
     "output_type": "execute_result"
    },
    {
     "data": {
      "image/png": "[encoded data removed]",
      "text/plain": [
       "<Figure size 576x576 with 2 Axes>"
      ]
     },
     "metadata": {
      "needs_background": "light"
     },
     "output_type": "display_data"
    }
   ],
   "source": [
    "u_matrix = som.get_u_matrix()\n",
    "\n",
    "plt.figure(figsize=(8,8))\n",
    "plt.imshow(np.squeeze(u_matrix))\n",
    "plt.colorbar()"
   ]
  },
  {
   "cell_type": "markdown",
   "metadata": {},
   "source": [
    "## Random Forest"
   ]
  },
  {
   "cell_type": "code",
   "execution_count": null,
   "metadata": {},
   "outputs": [],
   "source": [
    "scorer = {\n",
    "    \"oa\": \"accuracy\",\n",
    "    \"aa\": \"recall_macro\",\n",
    "    \"kappa\": make_scorer(cohen_kappa_score),\n",
    "}\n",
    "\n",
    "rf = RandomForestClassifier(n_estimators=100, n_jobs=-1)\n",
    "cv_rf = cross_validate(\n",
    "    rf, X_salinas_m, y_salinas_m, cv=5, n_jobs=-1,\n",
    "    scoring=scorer,\n",
    "    return_train_score=True, return_estimator=True, verbose=1)"
   ]
  },
  {
   "cell_type": "code",
   "execution_count": null,
   "metadata": {},
   "outputs": [],
   "source": [
    "pickle.dump(cv_rf, open(\"pickles/RFClassifier_cv.p\", \"wb\"))\n",
    "# cv_rf = pickle.load(open(\"pickles/RFClassifier_cv.p\", \"rb\"))\n",
    "\n",
    "print(\"OA\\t{0:.2f}\\t{1:.2f}\".format(np.mean(cv_rf['train_oa'])*100, np.mean(cv_rf['test_oa'])*100))\n",
    "print(\"AA\\t{0:.2f}\\t{1:.2f}\".format(np.mean(cv_rf['train_aa'])*100, np.mean(cv_rf['test_aa'])*100))\n",
    "print(\"Kappa\\t{0:.2f}\\t{1:.2f}\".format(np.mean(cv_rf['train_kappa'])*100, np.mean(cv_rf['test_kappa'])*100))"
   ]
  },
  {
   "cell_type": "code",
   "execution_count": null,
   "metadata": {},
   "outputs": [],
   "source": [
    "rf_best = cv_rf[\"estimator\"][np.argmax(cv_rf['test_oa'])]\n",
    "y_pred_rf = rf_best.predict(X_salinas_m)\n",
    "pickle.dump(y_pred_rf, open(\"pickles/RFClassifier_pred.p\", \"wb\"))"
   ]
  },
  {
   "cell_type": "code",
   "execution_count": null,
   "metadata": {},
   "outputs": [],
   "source": [
    "print(\"All:\", accuracy_score(y_salinas_m, y_pred_rf), f1_score(y_salinas_m, y_pred_rf, average=\"macro\"),\n",
    "     cohen_kappa_score(y_salinas_m, y_pred_rf)) "
   ]
  },
  {
   "cell_type": "markdown",
   "metadata": {},
   "source": [
    "## Evaluate hyperparameter optimization"
   ]
  },
  {
   "cell_type": "code",
   "execution_count": null,
   "metadata": {},
   "outputs": [],
   "source": [
    "rs = pickle.load(open(\"pickles/SOMClassifier_rs.p\", \"rb\"))"
   ]
  },
  {
   "cell_type": "code",
   "execution_count": null,
   "metadata": {},
   "outputs": [],
   "source": [
    "print(rs.best_score_)\n",
    "print(rs.best_params_)"
   ]
  },
  {
   "cell_type": "markdown",
   "metadata": {},
   "source": [
    "## Plot classification results"
   ]
  },
  {
   "cell_type": "code",
   "execution_count": null,
   "metadata": {},
   "outputs": [],
   "source": [
    "y_pred = pickle.load(open(\"pickles/SOMClassifier_pred.p\", \"rb\"))\n",
    "y_pred_rf = pickle.load(open(\"pickles/RFClassifier_pred.p\", \"rb\"))"
   ]
  },
  {
   "cell_type": "code",
   "execution_count": null,
   "metadata": {},
   "outputs": [],
   "source": [
    "def plot_salinas_result(fontsize=15):\n",
    "\n",
    "    fig, (ax1, ax2, ax3) = plt.subplots(1,3, figsize=(14,10))\n",
    "\n",
    "    # colormap\n",
    "    cmap = matplotlib.cm.tab20c\n",
    "    cmaplist = [cmap(i) for i in range(cmap.N)]    # extract all colors\n",
    "    cmap = matplotlib.colors.LinearSegmentedColormap.from_list('Custom cmap', cmaplist, cmap.N)\n",
    "    cmap.set_bad('white')\n",
    "\n",
    "    # plots 1: ground truth\n",
    "    ax1.imshow(np.ma.masked_where(y_salinas <1, y_salinas), cmap=cmap)\n",
    "    ax1.axes.get_xaxis().set_ticklabels([])\n",
    "    ax1.axes.get_yaxis().set_ticklabels([])\n",
    "    ax1.set_title(\"Reference data\", fontsize=fontsize)\n",
    "    \n",
    "    # plots 2: SOM\n",
    "    y_salinas_plot = np.copy(y_salinas)\n",
    "    y_salinas_plot[mask_salinas] = y_pred\n",
    "    im2 = ax2.imshow(np.ma.masked_where(y_salinas_plot <1, y_salinas_plot), cmap=cmap)\n",
    "    ax2.axes.get_xaxis().set_ticklabels([])\n",
    "    ax2.axes.get_yaxis().set_ticklabels([])\n",
    "    ax2.set_title(\"SOM classification\", fontsize=fontsize)\n",
    "    \n",
    "    # plots 3: SOM\n",
    "    y_salinas_plot = np.copy(y_salinas)\n",
    "    y_salinas_plot[mask_salinas] = y_pred_rf\n",
    "    im3 = ax3.imshow(np.ma.masked_where(y_salinas_plot <1, y_salinas_plot), cmap=cmap)\n",
    "    ax3.axes.get_xaxis().set_ticklabels([])\n",
    "    ax3.axes.get_yaxis().set_ticklabels([])\n",
    "    ax3.set_title(\"RF classification\", fontsize=fontsize)\n",
    "    \n",
    "    # legend\n",
    "    for key in classes_salinas.keys():\n",
    "        mycolor = cmap(key)\n",
    "        plt.plot(0, 0, \"s\", c=mycolor, label=classes_salinas[key])\n",
    "    legend = plt.legend(bbox_to_anchor=(2.4, 0.85), fontsize=fontsize, frameon=False, title=\"Classes:\")\n",
    "    plt.setp(legend.get_title(),fontsize=fontsize)\n",
    "\n",
    "    plt.savefig(\"plots/class_salinas_result.pdf\", bbox_inches='tight')\n",
    "\n",
    "plot_salinas_result()"
   ]
  },
  {
   "cell_type": "code",
   "execution_count": null,
   "metadata": {},
   "outputs": [],
   "source": []
  }
 ],
 "metadata": {
  "kernelspec": {
   "display_name": "Python 3",
   "language": "python",
   "name": "python3"
  },
  "language_info": {
   "codemirror_mode": {
    "name": "ipython",
    "version": 3
   },
   "file_extension": ".py",
   "mimetype": "text/x-python",
   "name": "python",
   "nbconvert_exporter": "python",
   "pygments_lexer": "ipython3",
   "version": "3.6.5"
  }
 },
 "nbformat": 4,
 "nbformat_minor": 2
}
