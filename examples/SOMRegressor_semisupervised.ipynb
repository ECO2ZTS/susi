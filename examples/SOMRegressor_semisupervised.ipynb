{
 "cells": [
  {
   "cell_type": "markdown",
   "metadata": {},
   "source": [
    "# Example for semi-supervised SOMRegressor"
   ]
  },
  {
   "cell_type": "code",
   "execution_count": 1,
   "metadata": {},
   "outputs": [],
   "source": [
    "import numpy as np\n",
    "import pandas as pd\n",
    "import matplotlib.pyplot as plt\n",
    "from sklearn.model_selection import train_test_split\n",
    "from sklearn.preprocessing import StandardScaler\n",
    "from sklearn import metrics\n",
    "\n",
    "# --- for running the script without pip\n",
    "import sys\n",
    "sys.path.append(\"../\")\n",
    "# ---\n",
    "\n",
    "import susi"
   ]
  },
  {
   "cell_type": "markdown",
   "metadata": {},
   "source": [
    "## Read in data\n",
    "\n",
    "We modify the hyperspectral soil-moisture dataset for this semi-supervised application.\n",
    "Therefore, we ramdomly set labels of datapoints (only!) in the training dataset to the placeholder -1.\n",
    "This variable also has to be set in the hyperparameter  `missing_label_placeholder=1` of the `SOMRegressor`.\n",
    "\n",
    "**Dataset:** Felix M. Riese and Sina Keller, \"Hyperspectral benchmark dataset on soil moisture\", Dataset, Zenodo, 2018. [DOI:10.5281/zenodo.1227836](http://doi.org/10.5281/zenodo.1227836) and [GitHub](https://github.com/felixriese/hyperspectral-soilmoisture-dataset)\n",
    "\n",
    "**Introducing paper:** Felix M. Riese and Sina Keller, “Introducing a Framework of Self-Organizing Maps for Regression of Soil Moisture with Hyperspectral Data,” in IGARSS 2018 - 2018 IEEE International Geoscience and Remote Sensing Symposium, Valencia, Spain, 2018, pp. 6151-6154. [DOI:10.1109/IGARSS.2018.8517812](https://doi.org/10.1109/IGARSS.2018.8517812)"
   ]
  },
  {
   "cell_type": "code",
   "execution_count": 2,
   "metadata": {},
   "outputs": [
    {
     "name": "stdout",
     "output_type": "stream",
     "text": [
      "Datapoints for training:\t\t 339\n",
      "Datapoints for training with label:\t 32\n",
      "Datapoints for testing:\t\t\t 340\n"
     ]
    }
   ],
   "source": [
    "### define ratios (between 0 and 1)\n",
    "test_size = 0.5\n",
    "missing_rate = 0.9\n",
    "\n",
    "# load and split data\n",
    "df = pd.read_csv((\"https://raw.githubusercontent.com/felixriese/\"\n",
    "                  \"hyperspectral-soilmoisture-dataset/master/soilmoisture_dataset.csv\"))\n",
    "features = [col for col in df.columns if col.isdigit()]\n",
    "X_train, X_test, y_train, y_test = train_test_split(\n",
    "    df[features].values, df[\"soil_moisture\"].values,\n",
    "    test_size=test_size, random_state=42)\n",
    "\n",
    "# remove labels from training dataset\n",
    "rng = np.random.RandomState(42)\n",
    "random_unlabeled_points = rng.rand(len(y_train)) < missing_rate\n",
    "y_train[random_unlabeled_points] = -1\n",
    "\n",
    "# preprocessing\n",
    "scaler = StandardScaler()\n",
    "X_train = scaler.fit_transform(X_train)\n",
    "X_test = scaler.transform(X_test)\n",
    "\n",
    "print(\"Datapoints for training:\\t\\t\", y_train.shape[0])\n",
    "print(\"Datapoints for training with label:\\t\", np.sum(y_train != -1))\n",
    "print(\"Datapoints for testing:\\t\\t\\t\", y_test.shape[0])"
   ]
  },
  {
   "cell_type": "markdown",
   "metadata": {},
   "source": [
    "## Semi-supervised Regression"
   ]
  },
  {
   "cell_type": "code",
   "execution_count": 3,
   "metadata": {},
   "outputs": [
    {
     "name": "stdout",
     "output_type": "stream",
     "text": [
      "R2 = 72.6 %\n"
     ]
    }
   ],
   "source": [
    "# NBVAL_IGNORE_OUTPUT\n",
    "\n",
    "som_semi = susi.SOMRegressor(\n",
    "    n_rows=40,\n",
    "    n_columns=40,\n",
    "    n_iter_unsupervised=20000,\n",
    "    n_iter_supervised=20000,\n",
    "    missing_label_placeholder=-1,  # important for semi-supervised learning!\n",
    "    random_state=42)\n",
    "\n",
    "som_semi.fit(X_train, y_train)\n",
    "y_pred = som_semi.predict(X_test)\n",
    "r2_semi = metrics.r2_score(y_test, y_pred)\n",
    "\n",
    "print(\"R2 = {0:.1f} %\".format(r2_semi*100))"
   ]
  },
  {
   "cell_type": "code",
   "execution_count": null,
   "metadata": {},
   "outputs": [],
   "source": []
  }
 ],
 "metadata": {
  "kernelspec": {
   "display_name": "Python 3",
   "language": "python",
   "name": "python3"
  },
  "language_info": {
   "codemirror_mode": {
    "name": "ipython",
    "version": 3
   },
   "file_extension": ".py",
   "mimetype": "text/x-python",
   "name": "python",
   "nbconvert_exporter": "python",
   "pygments_lexer": "ipython3",
   "version": "3.7.5"
  },
  "toc": {
   "nav_menu": {},
   "number_sections": false,
   "sideBar": true,
   "skip_h1_title": false,
   "toc_cell": false,
   "toc_position": {},
   "toc_section_display": "block",
   "toc_window_display": false
  },
  "varInspector": {
   "cols": {
    "lenName": 16,
    "lenType": 16,
    "lenVar": 40
   },
   "kernels_config": {
    "python": {
     "delete_cmd_postfix": "",
     "delete_cmd_prefix": "del ",
     "library": "var_list.py",
     "varRefreshCmd": "print(var_dic_list())"
    },
    "r": {
     "delete_cmd_postfix": ") ",
     "delete_cmd_prefix": "rm(",
     "library": "var_list.r",
     "varRefreshCmd": "cat(var_dic_list()) "
    }
   },
   "types_to_exclude": [
    "module",
    "function",
    "builtin_function_or_method",
    "instance",
    "_Feature"
   ],
   "window_display": false
  }
 },
 "nbformat": 4,
 "nbformat_minor": 2
}
