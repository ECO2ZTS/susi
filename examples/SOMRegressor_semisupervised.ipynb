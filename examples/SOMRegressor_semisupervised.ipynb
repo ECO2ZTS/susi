{
 "cells": [
  {
   "cell_type": "markdown",
   "metadata": {},
   "source": [
    "# Semi-supervised SOMRegressor"
   ]
  },
  {
   "cell_type": "code",
   "execution_count": 1,
   "metadata": {},
   "outputs": [],
   "source": [
    "import numpy as np\n",
    "import matplotlib.pyplot as plt\n",
    "from sklearn.model_selection import train_test_split\n",
    "from sklearn.preprocessing import StandardScaler\n",
    "from sklearn.datasets import load_boston\n",
    "from sklearn import metrics\n",
    "\n",
    "# --- for running the script without pip\n",
    "import sys\n",
    "sys.path.append(\"../\")\n",
    "# ---\n",
    "\n",
    "import susi"
   ]
  },
  {
   "cell_type": "markdown",
   "metadata": {},
   "source": [
    "## Regression data\n",
    "\n",
    "We modify the `load_boston` dataset of scikit-learn for this semi-supervised application.\n",
    "Therefore, we ramdomly set labels of datapoints (only!) in the training dataset to the placeholder -1.\n",
    "This variable also has to be set in the hyperparameter  `missing_label_placeholder=1` of the `SOMRegressor`."
   ]
  },
  {
   "cell_type": "code",
   "execution_count": 2,
   "metadata": {},
   "outputs": [
    {
     "name": "stdout",
     "output_type": "stream",
     "text": [
      "Datapoints for training with label (supervised):\t 253\n",
      "Datapoints for training with label (semi-supervised):\t 127\n",
      "Datapoints for testing:\t\t\t\t\t 253\n"
     ]
    }
   ],
   "source": [
    "### define ratios (between 0 and 1)\n",
    "test_size = 0.5\n",
    "unlabeled_size = 0.5\n",
    "\n",
    "# define test dataset\n",
    "boston = load_boston()\n",
    "X_train_orig, X_test_orig, y_train, y_test = train_test_split(\n",
    "    boston.data, boston.target, test_size=test_size, random_state=42)\n",
    "\n",
    "# preprocessing\n",
    "scaler = StandardScaler()\n",
    "X_train = scaler.fit_transform(X_train_orig)\n",
    "X_test = scaler.transform(X_test_orig)\n",
    "\n",
    "# data with missing labels -> semi-supervised\n",
    "rng = np.random.RandomState(42)\n",
    "random_unlabeled_points = rng.rand(len(y_train)) < unlabeled_size\n",
    "y_train_semi = np.copy(y_train)\n",
    "y_train_semi[random_unlabeled_points] = -1.\n",
    "\n",
    "print(\"Datapoints for training with label (supervised):\\t\", y_train.shape[0])\n",
    "print(\"Datapoints for training with label (semi-supervised):\\t\", np.sum(y_train_semi != -1))\n",
    "print(\"Datapoints for testing:\\t\\t\\t\\t\\t\", y_test.shape[0])"
   ]
  },
  {
   "cell_type": "markdown",
   "metadata": {},
   "source": [
    "## Supervised Regression SOM on Full Dataset"
   ]
  },
  {
   "cell_type": "code",
   "execution_count": 3,
   "metadata": {},
   "outputs": [
    {
     "name": "stdout",
     "output_type": "stream",
     "text": [
      "R2 = 62.9 % ± 2.3\n"
     ]
    }
   ],
   "source": [
    "# NBVAL_IGNORE_OUTPUT\n",
    "\n",
    "r2_list = []\n",
    "for random_state in range(10):\n",
    "    som_super = susi.SOMRegressor(\n",
    "        n_rows=15,\n",
    "        n_columns=15,\n",
    "        train_mode_unsupervised=\"online\",\n",
    "        train_mode_supervised=\"online\",\n",
    "        n_iter_unsupervised=5000,\n",
    "        n_iter_supervised=5000,\n",
    "        random_state=random_state)\n",
    "\n",
    "    som_super.fit(X_train, y_train)\n",
    "    y_pred_super = som_super.predict(X_test)\n",
    "    r2 = metrics.r2_score(y_test, y_pred_super)\n",
    "    r2_list.append(r2)\n",
    "\n",
    "print(\"R2 = {0:.1f} % ± {1:.1f}\".format(np.mean(r2_list)*100, np.std(r2_list)*100))"
   ]
  },
  {
   "cell_type": "markdown",
   "metadata": {},
   "source": [
    "## Supervised Regression SOM on Semi Dataset"
   ]
  },
  {
   "cell_type": "code",
   "execution_count": 4,
   "metadata": {},
   "outputs": [
    {
     "name": "stdout",
     "output_type": "stream",
     "text": [
      "R2 = 60.8 % ± 2.2\n"
     ]
    }
   ],
   "source": [
    "# NBVAL_IGNORE_OUTPUT\n",
    "\n",
    "r2_s_list = []\n",
    "for random_state in range(10):\n",
    "    som_super_s = susi.SOMRegressor(\n",
    "        n_rows=15,\n",
    "        n_columns=15,\n",
    "        train_mode_unsupervised=\"online\",\n",
    "        train_mode_supervised=\"online\",\n",
    "        n_iter_unsupervised=5000,\n",
    "        n_iter_supervised=5000,\n",
    "        random_state=random_state)\n",
    "\n",
    "    # find datapoints with label\n",
    "    indices = np.where(y_train_semi != -1)[0]\n",
    "\n",
    "    som_super_s.fit(X_train[indices], y_train_semi[indices])\n",
    "    y_pred_super_s = som_super_s.predict(X_test)\n",
    "    r2_s = metrics.r2_score(y_test, y_pred_super_s)\n",
    "    r2_s_list.append(r2_s)\n",
    "print(\"R2 = {0:.1f} % ± {1:.1f}\".format(np.mean(r2_s_list)*100, np.std(r2_s_list)*100))"
   ]
  },
  {
   "cell_type": "markdown",
   "metadata": {},
   "source": [
    "## Semi-supervised Regression SOM on Semi Dataset"
   ]
  },
  {
   "cell_type": "code",
   "execution_count": 7,
   "metadata": {},
   "outputs": [
    {
     "name": "stdout",
     "output_type": "stream",
     "text": [
      "R2 = 61.1 % ± 3.6\n"
     ]
    }
   ],
   "source": [
    "# NBVAL_IGNORE_OUTPUT\n",
    "\n",
    "r2_semi_list = []\n",
    "for random_state in range(10):\n",
    "    som_semi = susi.SOMRegressor(\n",
    "        n_rows=15,\n",
    "        n_columns=15,\n",
    "        train_mode_unsupervised=\"online\",\n",
    "        train_mode_supervised=\"online\",\n",
    "        n_iter_unsupervised=5000,\n",
    "        n_iter_supervised=5000,\n",
    "        missing_label_placeholder=-1,\n",
    "        random_state=random_state)\n",
    "\n",
    "    som_semi.fit(X_train, y_train_semi)\n",
    "    y_pred_semi = som_semi.predict(X_test)\n",
    "    r2_semi = metrics.r2_score(y_test, y_pred_semi)\n",
    "    r2_semi_list.append(r2_semi)\n",
    "\n",
    "print(\"R2 = {0:.1f} % ± {1:.1f}\".format(np.mean(r2_semi_list)*100, np.std(r2_semi_list)*100))"
   ]
  },
  {
   "cell_type": "markdown",
   "metadata": {},
   "source": [
    "## Plot results"
   ]
  },
  {
   "cell_type": "code",
   "execution_count": 8,
   "metadata": {},
   "outputs": [
    {
     "data": {
      "image/png": "[encoded data removed]",
      "text/plain": [
       "<Figure size 432x288 with 1 Axes>"
      ]
     },
     "metadata": {
      "needs_background": "light"
     },
     "output_type": "display_data"
    }
   ],
   "source": [
    "fontsize = 15\n",
    "\n",
    "r2_lists = [r2_list, r2_s_list, r2_semi_list]\n",
    "plt.errorbar(\n",
    "    x=[1,2,3],\n",
    "    y=[np.mean(x)*100 for x in r2_lists],\n",
    "    yerr=[np.std(x)*100 for x in r2_lists],\n",
    "    marker=\".\",\n",
    "    mew=5,\n",
    "    linewidth=0,\n",
    "    elinewidth=2,)\n",
    "plt.ylabel(\"$R^2$ in %\", fontsize=fontsize, rotation=0, labelpad=40)\n",
    "plt.xticks([1, 2, 3], [\"Supervised\", \"Supervised on Semi\", \"Semi-supervised\"], fontsize=fontsize)\n",
    "plt.yticks(fontsize=fontsize)\n",
    "plt.show()"
   ]
  },
  {
   "cell_type": "code",
   "execution_count": null,
   "metadata": {},
   "outputs": [],
   "source": []
  }
 ],
 "metadata": {
  "kernelspec": {
   "display_name": "Python 3",
   "language": "python",
   "name": "python3"
  },
  "language_info": {
   "codemirror_mode": {
    "name": "ipython",
    "version": 3
   },
   "file_extension": ".py",
   "mimetype": "text/x-python",
   "name": "python",
   "nbconvert_exporter": "python",
   "pygments_lexer": "ipython3",
   "version": "3.7.4"
  },
  "toc": {
   "nav_menu": {},
   "number_sections": false,
   "sideBar": true,
   "skip_h1_title": false,
   "toc_cell": false,
   "toc_position": {},
   "toc_section_display": "block",
   "toc_window_display": false
  },
  "varInspector": {
   "cols": {
    "lenName": 16,
    "lenType": 16,
    "lenVar": 40
   },
   "kernels_config": {
    "python": {
     "delete_cmd_postfix": "",
     "delete_cmd_prefix": "del ",
     "library": "var_list.py",
     "varRefreshCmd": "print(var_dic_list())"
    },
    "r": {
     "delete_cmd_postfix": ") ",
     "delete_cmd_prefix": "rm(",
     "library": "var_list.r",
     "varRefreshCmd": "cat(var_dic_list()) "
    }
   },
   "types_to_exclude": [
    "module",
    "function",
    "builtin_function_or_method",
    "instance",
    "_Feature"
   ],
   "window_display": false
  }
 },
 "nbformat": 4,
 "nbformat_minor": 2
}
